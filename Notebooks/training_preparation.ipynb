{
  "nbformat": 4,
  "nbformat_minor": 0,
  "metadata": {
    "colab": {
      "provenance": [],
      "authorship_tag": "ABX9TyOW46zRUD81PJy5Z5PUpli3"
    },
    "kernelspec": {
      "name": "python3",
      "display_name": "Python 3"
    },
    "language_info": {
      "name": "python"
    }
  },
  "cells": [
    {
      "cell_type": "markdown",
      "source": [
        "# Customer Churn Analysis\n",
        "\n",
        "\n"
      ],
      "metadata": {
        "id": "tqlAhDrTq2e5"
      }
    },
    {
      "cell_type": "markdown",
      "source": [
        "References :\n",
        "\n",
        "[Kaggle dataset source](https://www.kaggle.com/datasets/blastchar/telco-customer-churn?resource=download&select=WA_Fn-UseC_-Telco-Customer-Churn.csv),\n",
        "\n",
        "[Github tutorial](https://github.com/pik1989/MLProject-ChurnPrediction/blob/main/Churn%20Analysis%20-%20EDA.ipynb),\n",
        "\n",
        "[Youtube tutorial related to github](https://www.youtube.com/watch?v=GVECbcKUio4)"
      ],
      "metadata": {
        "id": "WOy8Z9M2rOaT"
      }
    },
    {
      "cell_type": "markdown",
      "source": [
        "## Packages and data importation"
      ],
      "metadata": {
        "id": "Ok3bcOvj8wmm"
      }
    },
    {
      "cell_type": "code",
      "source": [
        "from google.colab import drive\n",
        "drive.mount('/content/drive')"
      ],
      "metadata": {
        "colab": {
          "base_uri": "https://localhost:8080/"
        },
        "id": "pQ-brwBlEG6Q",
        "outputId": "88cc2d13-3362-4bdf-f0ff-2c2a3ae3fc64"
      },
      "execution_count": 1,
      "outputs": [
        {
          "output_type": "stream",
          "name": "stdout",
          "text": [
            "Drive already mounted at /content/drive; to attempt to forcibly remount, call drive.mount(\"/content/drive\", force_remount=True).\n"
          ]
        }
      ]
    },
    {
      "cell_type": "code",
      "source": [
        "%run /content/drive/MyDrive/churn/Packages.ipynb"
      ],
      "metadata": {
        "id": "MCjP2cEJlqSh"
      },
      "execution_count": null,
      "outputs": []
    },
    {
      "cell_type": "markdown",
      "source": [
        "# Data Visualisation"
      ],
      "metadata": {
        "id": "HQambv5DJoCH"
      }
    },
    {
      "cell_type": "code",
      "source": [
        "churn_df = spark.read.csv('/content/drive/MyDrive/churn/WA_Fn-UseC_-Telco-Customer-Churn.csv', header = True, inferSchema = True)\n",
        "churn_df.show(5)"
      ],
      "metadata": {
        "id": "RB7IwqGylniY",
        "colab": {
          "base_uri": "https://localhost:8080/"
        },
        "outputId": "54830aca-4236-4593-cff1-13e41b3929fb"
      },
      "execution_count": 3,
      "outputs": [
        {
          "output_type": "stream",
          "name": "stdout",
          "text": [
            "+----------+------+-------------+-------+----------+------+------------+----------------+---------------+--------------+------------+----------------+-----------+-----------+---------------+--------------+----------------+--------------------+--------------+------------+-----+\n",
            "|customerID|gender|SeniorCitizen|Partner|Dependents|tenure|PhoneService|   MultipleLines|InternetService|OnlineSecurity|OnlineBackup|DeviceProtection|TechSupport|StreamingTV|StreamingMovies|      Contract|PaperlessBilling|       PaymentMethod|MonthlyCharges|TotalCharges|Churn|\n",
            "+----------+------+-------------+-------+----------+------+------------+----------------+---------------+--------------+------------+----------------+-----------+-----------+---------------+--------------+----------------+--------------------+--------------+------------+-----+\n",
            "|7590-VHVEG|Female|            0|    Yes|        No|     1|          No|No phone service|            DSL|            No|         Yes|              No|         No|         No|             No|Month-to-month|             Yes|    Electronic check|         29.85|       29.85|   No|\n",
            "|5575-GNVDE|  Male|            0|     No|        No|    34|         Yes|              No|            DSL|           Yes|          No|             Yes|         No|         No|             No|      One year|              No|        Mailed check|         56.95|      1889.5|   No|\n",
            "|3668-QPYBK|  Male|            0|     No|        No|     2|         Yes|              No|            DSL|           Yes|         Yes|              No|         No|         No|             No|Month-to-month|             Yes|        Mailed check|         53.85|      108.15|  Yes|\n",
            "|7795-CFOCW|  Male|            0|     No|        No|    45|          No|No phone service|            DSL|           Yes|          No|             Yes|        Yes|         No|             No|      One year|              No|Bank transfer (au...|          42.3|     1840.75|   No|\n",
            "|9237-HQITU|Female|            0|     No|        No|     2|         Yes|              No|    Fiber optic|            No|          No|              No|         No|         No|             No|Month-to-month|             Yes|    Electronic check|          70.7|      151.65|  Yes|\n",
            "+----------+------+-------------+-------+----------+------+------------+----------------+---------------+--------------+------------+----------------+-----------+-----------+---------------+--------------+----------------+--------------------+--------------+------------+-----+\n",
            "only showing top 5 rows\n",
            "\n"
          ]
        }
      ]
    },
    {
      "cell_type": "code",
      "source": [
        "churn_df.count()"
      ],
      "metadata": {
        "colab": {
          "base_uri": "https://localhost:8080/"
        },
        "id": "EIBKWVs6RObX",
        "outputId": "728858f5-54c8-4289-c231-109ca3b3e576"
      },
      "execution_count": 4,
      "outputs": [
        {
          "output_type": "execute_result",
          "data": {
            "text/plain": [
              "7043"
            ]
          },
          "metadata": {},
          "execution_count": 4
        }
      ]
    },
    {
      "cell_type": "markdown",
      "source": [
        "Before going deeper, although this dataset is quite small, I believe all the methods used here might need to be scaled-up for larger dataset, so I'm gonna work using pyspark in priority and pandas for some value-added only, or propose some translation. "
      ],
      "metadata": {
        "id": "86WQF3QXRQ8Q"
      }
    },
    {
      "cell_type": "markdown",
      "source": [
        "## Looking at variable types, convert TotalCharges to integer"
      ],
      "metadata": {
        "id": "iXPxXlYTJmd4"
      }
    },
    {
      "cell_type": "code",
      "source": [
        "churn_df.printSchema()\n",
        "churn_df = churn_df.withColumn(\"TotalCharges\", churn_df[\"TotalCharges\"].cast(IntegerType()))\n",
        "churn_df.printSchema()"
      ],
      "metadata": {
        "colab": {
          "base_uri": "https://localhost:8080/"
        },
        "id": "08bDONhiIY6O",
        "outputId": "2cfe01f7-fe29-4f51-b600-62d869b5abcd"
      },
      "execution_count": 5,
      "outputs": [
        {
          "output_type": "stream",
          "name": "stdout",
          "text": [
            "root\n",
            " |-- customerID: string (nullable = true)\n",
            " |-- gender: string (nullable = true)\n",
            " |-- SeniorCitizen: integer (nullable = true)\n",
            " |-- Partner: string (nullable = true)\n",
            " |-- Dependents: string (nullable = true)\n",
            " |-- tenure: integer (nullable = true)\n",
            " |-- PhoneService: string (nullable = true)\n",
            " |-- MultipleLines: string (nullable = true)\n",
            " |-- InternetService: string (nullable = true)\n",
            " |-- OnlineSecurity: string (nullable = true)\n",
            " |-- OnlineBackup: string (nullable = true)\n",
            " |-- DeviceProtection: string (nullable = true)\n",
            " |-- TechSupport: string (nullable = true)\n",
            " |-- StreamingTV: string (nullable = true)\n",
            " |-- StreamingMovies: string (nullable = true)\n",
            " |-- Contract: string (nullable = true)\n",
            " |-- PaperlessBilling: string (nullable = true)\n",
            " |-- PaymentMethod: string (nullable = true)\n",
            " |-- MonthlyCharges: double (nullable = true)\n",
            " |-- TotalCharges: string (nullable = true)\n",
            " |-- Churn: string (nullable = true)\n",
            "\n",
            "root\n",
            " |-- customerID: string (nullable = true)\n",
            " |-- gender: string (nullable = true)\n",
            " |-- SeniorCitizen: integer (nullable = true)\n",
            " |-- Partner: string (nullable = true)\n",
            " |-- Dependents: string (nullable = true)\n",
            " |-- tenure: integer (nullable = true)\n",
            " |-- PhoneService: string (nullable = true)\n",
            " |-- MultipleLines: string (nullable = true)\n",
            " |-- InternetService: string (nullable = true)\n",
            " |-- OnlineSecurity: string (nullable = true)\n",
            " |-- OnlineBackup: string (nullable = true)\n",
            " |-- DeviceProtection: string (nullable = true)\n",
            " |-- TechSupport: string (nullable = true)\n",
            " |-- StreamingTV: string (nullable = true)\n",
            " |-- StreamingMovies: string (nullable = true)\n",
            " |-- Contract: string (nullable = true)\n",
            " |-- PaperlessBilling: string (nullable = true)\n",
            " |-- PaymentMethod: string (nullable = true)\n",
            " |-- MonthlyCharges: double (nullable = true)\n",
            " |-- TotalCharges: integer (nullable = true)\n",
            " |-- Churn: string (nullable = true)\n",
            "\n"
          ]
        }
      ]
    },
    {
      "cell_type": "markdown",
      "source": [
        "Keeping only not null raws"
      ],
      "metadata": {
        "id": "HlOGT89iPhSP"
      }
    },
    {
      "cell_type": "code",
      "source": [
        "churn_df = churn_df.filter(churn_df.TotalCharges.isNotNull())\n",
        "\n",
        "#Pandas\n",
        "#churn_data.TotalCharges = pd.to_numeric(churn_data.TotalCharges, errors = 'coerce')\n",
        "#churn_data.TotalCharges.isnull().sum()\n",
        "#churn_data.loc[(churn_data[\"TotalCharges\"].isnull()==True) & (churn_data[\"Churn\"]==\"Yes\")]"
      ],
      "metadata": {
        "id": "rejRnbzhIxb8"
      },
      "execution_count": 6,
      "outputs": []
    },
    {
      "cell_type": "markdown",
      "source": [
        "# Data analysis \n"
      ],
      "metadata": {
        "id": "xDWBmZ_p8tjX"
      }
    },
    {
      "cell_type": "markdown",
      "source": [
        "First looking at all the features of each string variables"
      ],
      "metadata": {
        "id": "4JA3sA0SPqxf"
      }
    },
    {
      "cell_type": "code",
      "source": [
        "for i in churn_df.drop('Churn','TotalCharges','MonthlyCharges','customerID','tenure'):\n",
        "  churn_df.select(i).distinct().show()"
      ],
      "metadata": {
        "colab": {
          "base_uri": "https://localhost:8080/"
        },
        "id": "kuTuuma3sjAH",
        "outputId": "0ddaf30e-851d-486e-8f4d-0a52eaeab80a"
      },
      "execution_count": 7,
      "outputs": [
        {
          "output_type": "stream",
          "name": "stdout",
          "text": [
            "+------+\n",
            "|gender|\n",
            "+------+\n",
            "|Female|\n",
            "|  Male|\n",
            "+------+\n",
            "\n",
            "+-------------+\n",
            "|SeniorCitizen|\n",
            "+-------------+\n",
            "|            1|\n",
            "|            0|\n",
            "+-------------+\n",
            "\n",
            "+-------+\n",
            "|Partner|\n",
            "+-------+\n",
            "|     No|\n",
            "|    Yes|\n",
            "+-------+\n",
            "\n",
            "+----------+\n",
            "|Dependents|\n",
            "+----------+\n",
            "|        No|\n",
            "|       Yes|\n",
            "+----------+\n",
            "\n",
            "+------------+\n",
            "|PhoneService|\n",
            "+------------+\n",
            "|          No|\n",
            "|         Yes|\n",
            "+------------+\n",
            "\n",
            "+----------------+\n",
            "|   MultipleLines|\n",
            "+----------------+\n",
            "|No phone service|\n",
            "|              No|\n",
            "|             Yes|\n",
            "+----------------+\n",
            "\n",
            "+---------------+\n",
            "|InternetService|\n",
            "+---------------+\n",
            "|    Fiber optic|\n",
            "|             No|\n",
            "|            DSL|\n",
            "+---------------+\n",
            "\n",
            "+-------------------+\n",
            "|     OnlineSecurity|\n",
            "+-------------------+\n",
            "|                 No|\n",
            "|                Yes|\n",
            "|No internet service|\n",
            "+-------------------+\n",
            "\n",
            "+-------------------+\n",
            "|       OnlineBackup|\n",
            "+-------------------+\n",
            "|                 No|\n",
            "|                Yes|\n",
            "|No internet service|\n",
            "+-------------------+\n",
            "\n",
            "+-------------------+\n",
            "|   DeviceProtection|\n",
            "+-------------------+\n",
            "|                 No|\n",
            "|                Yes|\n",
            "|No internet service|\n",
            "+-------------------+\n",
            "\n",
            "+-------------------+\n",
            "|        TechSupport|\n",
            "+-------------------+\n",
            "|                 No|\n",
            "|                Yes|\n",
            "|No internet service|\n",
            "+-------------------+\n",
            "\n",
            "+-------------------+\n",
            "|        StreamingTV|\n",
            "+-------------------+\n",
            "|                 No|\n",
            "|                Yes|\n",
            "|No internet service|\n",
            "+-------------------+\n",
            "\n",
            "+-------------------+\n",
            "|    StreamingMovies|\n",
            "+-------------------+\n",
            "|                 No|\n",
            "|                Yes|\n",
            "|No internet service|\n",
            "+-------------------+\n",
            "\n",
            "+--------------+\n",
            "|      Contract|\n",
            "+--------------+\n",
            "|Month-to-month|\n",
            "|      One year|\n",
            "|      Two year|\n",
            "+--------------+\n",
            "\n",
            "+----------------+\n",
            "|PaperlessBilling|\n",
            "+----------------+\n",
            "|              No|\n",
            "|             Yes|\n",
            "+----------------+\n",
            "\n",
            "+--------------------+\n",
            "|       PaymentMethod|\n",
            "+--------------------+\n",
            "|Credit card (auto...|\n",
            "|        Mailed check|\n",
            "|Bank transfer (au...|\n",
            "|    Electronic check|\n",
            "+--------------------+\n",
            "\n"
          ]
        }
      ]
    },
    {
      "cell_type": "code",
      "source": [
        "for i in churn_df.select('TotalCharges','MonthlyCharges','tenure'):\n",
        "  print(\"For the {}\".format(i))\n",
        "  churn_df.agg(round(mean(i),2).alias(\"Mean\"), round(stddev(i),2).alias(\"Standard Deviation\"),round(max(i),2).alias(\"Maximum\"),round(min(i),2).alias(\"Minimum\")).show()"
      ],
      "metadata": {
        "colab": {
          "base_uri": "https://localhost:8080/"
        },
        "id": "B-mkAVPaKQ5p",
        "outputId": "eca8b70e-e38c-4b5b-98c7-6c7c566c4de8"
      },
      "execution_count": 8,
      "outputs": [
        {
          "output_type": "stream",
          "name": "stdout",
          "text": [
            "For the Column<'TotalCharges'>\n",
            "+-------+------------------+-------+-------+\n",
            "|   Mean|Standard Deviation|Maximum|Minimum|\n",
            "+-------+------------------+-------+-------+\n",
            "|2282.83|           2266.77|   8684|     18|\n",
            "+-------+------------------+-------+-------+\n",
            "\n",
            "For the Column<'MonthlyCharges'>\n",
            "+----+------------------+-------+-------+\n",
            "|Mean|Standard Deviation|Maximum|Minimum|\n",
            "+----+------------------+-------+-------+\n",
            "|64.8|             30.09| 118.75|  18.25|\n",
            "+----+------------------+-------+-------+\n",
            "\n",
            "For the Column<'tenure'>\n",
            "+-----+------------------+-------+-------+\n",
            "| Mean|Standard Deviation|Maximum|Minimum|\n",
            "+-----+------------------+-------+-------+\n",
            "|32.42|             24.55|     72|      1|\n",
            "+-----+------------------+-------+-------+\n",
            "\n"
          ]
        }
      ]
    },
    {
      "cell_type": "markdown",
      "source": [
        "## Pandas Profiling overview \n",
        "\n",
        "It's quite a all-in-one function to discover a dataset, looking for the number of observations, missing cells, duplicate rows, variables types, values of variables, basic statistics and distribution, and when relevant, interactions and correlations"
      ],
      "metadata": {
        "id": "ylQplFV4P7WF"
      }
    },
    {
      "cell_type": "code",
      "source": [
        "#Saving place \n",
        "#pdp.ProfileReport(churn_df.toPandas())"
      ],
      "metadata": {
        "id": "ecfIOpLqP8yn"
      },
      "execution_count": 9,
      "outputs": []
    },
    {
      "cell_type": "markdown",
      "source": [
        "## Summary of overview"
      ],
      "metadata": {
        "id": "H7sn_m5aGYQR"
      }
    },
    {
      "cell_type": "markdown",
      "source": [
        "\n",
        "\n",
        "The dataset is composed of 21 variables, each has 7043 raws, no missing values is reported, and no duplicate raws as well. \n",
        "\n",
        "\n",
        "---\n",
        "\n",
        "3 variables are numeric :  \n",
        "\n",
        "*   Tenure = Number of months the customer has stayed with the company, with the extreme quantiles as maximum (between 0 and 7 months, and between 65 and 72 months)\n",
        "*   MonthlyCharges = The monthly payment of the customer, with the cheapest the most represented (18.25, no device specified) until 118.25. \n",
        "*   TotalCharges, that is mistakenly entered as categorial, but has to be convert as numeric. \n",
        "\n",
        "---\n",
        "\n",
        "5 variables are dummy variables, and 2 variables must be a dummy too :\n",
        "\n",
        "*   Partner, whether the customer has a partner (Yes), or not (No)\n",
        "*   Dependents, wheter the customer has dependents (Yes) or not (No)\n",
        "*   PaperlessBilling, whether the customer has a paperless billing or not \n",
        "*   PhoneService, whether the customer has a phone service (Yes) or not (No)\n",
        "*   And churn, the predict variable as well, with roughly 26% of churners. \n",
        "\n",
        "*   Gender, which is almost 50-50 between male and female\n",
        "*   SeniorCitizen, 1 if yes. \n",
        "\n",
        "\n",
        "---\n",
        "\n",
        "The 12 other variables are categorial, among them we have :\n",
        "\n",
        "*   MultipleLines, InternetService,  OnlineSecurity, OnlineBackup, DeviceProtection, TechSupport, StreamingTV, StreamingMovies, which indicates whether the customer has each item (Yes), or not (No) or even no item service at all, all are independant, with a certain level of correlation between them.  \n",
        "*  Contract, that indicates how long the contract of the client is, 3 possibilities : month-to-month, 1-year or 2-year\n",
        "*   PaymentMethod, that indicates how the customer pay, could be automatic (credit card or bank transfer) or by check (mailed or electronic). This last one is the most recurrent, the other roughly equal\n",
        "\n",
        "---\n",
        "\n",
        "\n",
        "\n",
        "\n",
        "\n",
        "\n",
        "\n",
        "\n",
        "\n",
        "\n",
        "\n",
        "\n"
      ],
      "metadata": {
        "id": "stgfXKNl-mOO"
      }
    },
    {
      "cell_type": "code",
      "source": [
        "churn_data = churn_df.toPandas()\n",
        "churn_data.info()"
      ],
      "metadata": {
        "colab": {
          "base_uri": "https://localhost:8080/"
        },
        "id": "VBnIxqde8GEn",
        "outputId": "15737ba7-3eaa-4df5-ee58-69ab44cf0dce"
      },
      "execution_count": 8,
      "outputs": [
        {
          "output_type": "stream",
          "name": "stdout",
          "text": [
            "<class 'pandas.core.frame.DataFrame'>\n",
            "RangeIndex: 7032 entries, 0 to 7031\n",
            "Data columns (total 21 columns):\n",
            " #   Column            Non-Null Count  Dtype  \n",
            "---  ------            --------------  -----  \n",
            " 0   customerID        7032 non-null   object \n",
            " 1   gender            7032 non-null   object \n",
            " 2   SeniorCitizen     7032 non-null   int32  \n",
            " 3   Partner           7032 non-null   object \n",
            " 4   Dependents        7032 non-null   object \n",
            " 5   tenure            7032 non-null   int32  \n",
            " 6   PhoneService      7032 non-null   object \n",
            " 7   MultipleLines     7032 non-null   object \n",
            " 8   InternetService   7032 non-null   object \n",
            " 9   OnlineSecurity    7032 non-null   object \n",
            " 10  OnlineBackup      7032 non-null   object \n",
            " 11  DeviceProtection  7032 non-null   object \n",
            " 12  TechSupport       7032 non-null   object \n",
            " 13  StreamingTV       7032 non-null   object \n",
            " 14  StreamingMovies   7032 non-null   object \n",
            " 15  Contract          7032 non-null   object \n",
            " 16  PaperlessBilling  7032 non-null   object \n",
            " 17  PaymentMethod     7032 non-null   object \n",
            " 18  MonthlyCharges    7032 non-null   float64\n",
            " 19  TotalCharges      7032 non-null   int32  \n",
            " 20  Churn             7032 non-null   object \n",
            "dtypes: float64(1), int32(3), object(17)\n",
            "memory usage: 1.0+ MB\n"
          ]
        }
      ]
    },
    {
      "cell_type": "code",
      "source": [
        "churn_data = churn_df.toPandas()\n",
        "churn_data['Churn'].value_counts().plot(kind ='pie', figsize =(6,6),\n",
        "                                        title='Count of target variable per category')"
      ],
      "metadata": {
        "colab": {
          "base_uri": "https://localhost:8080/",
          "height": 390
        },
        "id": "Lt2P8uikLpYC",
        "outputId": "1f29d042-a3f8-46a8-9251-9108135c6f91"
      },
      "execution_count": 7,
      "outputs": [
        {
          "output_type": "execute_result",
          "data": {
            "text/plain": [
              "<matplotlib.axes._subplots.AxesSubplot at 0x7f5db528db50>"
            ]
          },
          "metadata": {},
          "execution_count": 7
        },
        {
          "output_type": "display_data",
          "data": {
            "text/plain": [
              "<Figure size 432x432 with 1 Axes>"
            ],
            "image/png": "[encoded data removed]"
          },
          "metadata": {}
        }
      ]
    },
    {
      "cell_type": "markdown",
      "source": [
        "### Churn topic"
      ],
      "metadata": {
        "id": "DNtUU5hQ31x8"
      }
    },
    {
      "cell_type": "markdown",
      "source": [
        "Among things we must deal with:\n",
        "\n",
        "*   Unbalanced dataset, we can either upscale the dataset, or downscale it, or even take something to apply the lift metric properly. \n",
        "*   Apply and interpret precision (for quality application), recall (for quantity application) and lift \n",
        "\n"
      ],
      "metadata": {
        "id": "fVLtRu5bPwoD"
      }
    },
    {
      "cell_type": "markdown",
      "source": [
        "## Tasks to be done after first overview"
      ],
      "metadata": {
        "id": "wz2rbKUcGb6q"
      }
    },
    {
      "cell_type": "markdown",
      "source": [
        "\n",
        "*   Boolean and categorial variables (16 of them) have to be encoded, that means change all the (Yes,No) by (1,0) and the correct encoding for variables with at least 3 features.  \n",
        "*   Total charges has to be converted in numerical variable. \n",
        "*   Since the dataset is unbalanced as I expected (27%-73%), I think I have to try two types of model : one with the whole dataset, and one with the top 5% most at-risk churners. \n",
        "\n",
        "\n",
        "\n"
      ],
      "metadata": {
        "id": "7IL_EBPSGnmN"
      }
    },
    {
      "cell_type": "markdown",
      "source": [
        "Step 1. Looking at tenure and pass it in categorial variable, grouping by year"
      ],
      "metadata": {
        "id": "sIx1icaZzpqM"
      }
    },
    {
      "cell_type": "code",
      "source": [
        "churn_data['tenure'].describe()"
      ],
      "metadata": {
        "colab": {
          "base_uri": "https://localhost:8080/"
        },
        "id": "RWbJN45iuLXz",
        "outputId": "7b50b1a3-c0c2-4fa6-a523-0a4ea3df993a"
      },
      "execution_count": 8,
      "outputs": [
        {
          "output_type": "execute_result",
          "data": {
            "text/plain": [
              "count    7032.000000\n",
              "mean       32.421786\n",
              "std        24.545260\n",
              "min         1.000000\n",
              "25%         9.000000\n",
              "50%        29.000000\n",
              "75%        55.000000\n",
              "max        72.000000\n",
              "Name: tenure, dtype: float64"
            ]
          },
          "metadata": {},
          "execution_count": 8
        }
      ]
    },
    {
      "cell_type": "code",
      "source": [
        "churn_df = (churn_df.withColumn('tenure_group',\n",
        "                                when(col('tenure').between(1,12),\"1-12\")\n",
        "                                .otherwise(when(col('tenure').between(13,24),\"13-24\")\n",
        "                                  .otherwise(when(col('tenure').between(25,36),\"25-36\")\n",
        "                                      .otherwise(when(col('tenure').between(37,48),\"37-48\")\n",
        "                                        .otherwise(when(col('tenure').between(49,60),\"49-60\")\n",
        "                                          .otherwise(\"61-72\")))))\n",
        "                                )\n",
        ")\n",
        "churn_df.select('tenure_group').distinct().show()\n",
        "churn_df.filter(churn_df.tenure_group.isNull()).count()\n",
        "\n",
        "#Pandas\n",
        "#labels = [\"{0}-{1}\".format(i,i+11) for i in range(1,72,12)]\n",
        "#churn_data['tenure_group'] = pd.cut(churn_data.tenure, range(1,80,12), right = False, labels=labels)\n",
        "#churn_data['tenure_group'].value_counts()"
      ],
      "metadata": {
        "colab": {
          "base_uri": "https://localhost:8080/"
        },
        "id": "hqb_lvwAvfIw",
        "outputId": "7f1e7ef3-80d4-4f6a-874d-f188eb018152"
      },
      "execution_count": 9,
      "outputs": [
        {
          "output_type": "stream",
          "name": "stdout",
          "text": [
            "+------------+\n",
            "|tenure_group|\n",
            "+------------+\n",
            "|        1-12|\n",
            "|       13-24|\n",
            "|       49-60|\n",
            "|       61-72|\n",
            "|       37-48|\n",
            "|       25-36|\n",
            "+------------+\n",
            "\n"
          ]
        },
        {
          "output_type": "execute_result",
          "data": {
            "text/plain": [
              "0"
            ]
          },
          "metadata": {},
          "execution_count": 9
        }
      ]
    },
    {
      "cell_type": "markdown",
      "source": [
        "Step 2. Remove columns not required for modelling"
      ],
      "metadata": {
        "id": "r-qGFfER2588"
      }
    },
    {
      "cell_type": "code",
      "source": [
        "churn_df = churn_df.drop(\"customerID\",'tenure')\n",
        "# Pandas\n",
        "#churn_data.drop(columns=['customerID','tenure'], axis=1, inplace= True)"
      ],
      "metadata": {
        "id": "bL0vzdGCx3oP"
      },
      "execution_count": 12,
      "outputs": []
    },
    {
      "cell_type": "markdown",
      "source": [
        "### Data Exploration"
      ],
      "metadata": {
        "id": "TUiuAQv13Dew"
      }
    },
    {
      "cell_type": "markdown",
      "source": [
        "1. Plot distribution of individual predictors by churn"
      ],
      "metadata": {
        "id": "5NLZvax-4jw-"
      }
    },
    {
      "cell_type": "code",
      "source": [
        "for i, predictor in enumerate(churn_data.drop(columns=['Churn','TotalCharges','MonthlyCharges'])):\n",
        "  plt.figure(i)\n",
        "  sns.countplot(data=churn_data, x=predictor, hue='Churn')"
      ],
      "metadata": {
        "colab": {
          "base_uri": "https://localhost:8080/",
          "height": 1000
        },
        "id": "PCRS-ue8yHWC",
        "outputId": "b7a6f1bd-bc95-4245-b0b5-69148d5d67b9"
      },
      "execution_count": 11,
      "outputs": [
        {
          "output_type": "display_data",
          "data": {
            "text/plain": [
              "<Figure size 432x288 with 1 Axes>"
            ],
            "image/png": "[encoded data removed]"
          },
          "metadata": {
            "needs_background": "light"
          }
        },
        {
          "output_type": "display_data",
          "data": {
            "text/plain": [
              "<Figure size 432x288 with 1 Axes>"
            ],
            "image/png": "[encoded data removed]"
          },
          "metadata": {
            "needs_background": "light"
          }
        },
        {
          "output_type": "display_data",
          "data": {
            "text/plain": [
              "<Figure size 432x288 with 1 Axes>"
            ],
            "image/png": "[encoded data removed]"
          },
          "metadata": {
            "needs_background": "light"
          }
        },
        {
          "output_type": "display_data",
          "data": {
            "text/plain": [
              "<Figure size 432x288 with 1 Axes>"
            ],
            "image/png": "[encoded data removed]"
          },
          "metadata": {
            "needs_background": "light"
          }
        },
        {
          "output_type": "display_data",
          "data": {
            "text/plain": [
              "<Figure size 432x288 with 1 Axes>"
            ],
            "image/png": "[encoded data removed]"
          },
          "metadata": {
            "needs_background": "light"
          }
        },
        {
          "output_type": "display_data",
          "data": {
            "text/plain": [
              "<Figure size 432x288 with 1 Axes>"
            ],
            "image/png": "[encoded data removed]"
          },
          "metadata": {
            "needs_background": "light"
          }
        },
        {
          "output_type": "display_data",
          "data": {
            "text/plain": [
              "<Figure size 432x288 with 1 Axes>"
            ],
            "image/png": "[encoded data removed]"
          },
          "metadata": {
            "needs_background": "light"
          }
        },
        {
          "output_type": "display_data",
          "data": {
            "text/plain": [
              "<Figure size 432x288 with 1 Axes>"
            ],
            "image/png": "[encoded data removed]"
          },
          "metadata": {
            "needs_background": "light"
          }
        },
        {
          "output_type": "display_data",
          "data": {
            "text/plain": [
              "<Figure size 432x288 with 1 Axes>"
            ],
            "image/png": "[encoded data removed]"
          },
          "metadata": {
            "needs_background": "light"
          }
        },
        {
          "output_type": "display_data",
          "data": {
            "text/plain": [
              "<Figure size 432x288 with 1 Axes>"
            ],
            "image/png": "[encoded data removed]"
          },
          "metadata": {
            "needs_background": "light"
          }
        },
        {
          "output_type": "display_data",
          "data": {
            "text/plain": [
              "<Figure size 432x288 with 1 Axes>"
            ],
            "image/png": "[encoded data removed]"
          },
          "metadata": {
            "needs_background": "light"
          }
        },
        {
          "output_type": "display_data",
          "data": {
            "text/plain": [
              "<Figure size 432x288 with 1 Axes>"
            ],
            "image/png": "[encoded data removed]"
          },
          "metadata": {
            "needs_background": "light"
          }
        },
        {
          "output_type": "display_data",
          "data": {
            "text/plain": [
              "<Figure size 432x288 with 1 Axes>"
            ],
            "image/png": "[encoded data removed]"
          },
          "metadata": {
            "needs_background": "light"
          }
        },
        {
          "output_type": "display_data",
          "data": {
            "text/plain": [
              "<Figure size 432x288 with 1 Axes>"
            ],
            "image/png": "[encoded data removed]"
          },
          "metadata": {
            "needs_background": "light"
          }
        },
        {
          "output_type": "display_data",
          "data": {
            "text/plain": [
              "<Figure size 432x288 with 1 Axes>"
            ],
            "image/png": "[encoded data removed]"
          },
          "metadata": {
            "needs_background": "light"
          }
        },
        {
          "output_type": "display_data",
          "data": {
            "text/plain": [
              "<Figure size 432x288 with 1 Axes>"
            ],
            "image/png": "[encoded data removed]"
          },
          "metadata": {
            "needs_background": "light"
          }
        },
        {
          "output_type": "display_data",
          "data": {
            "text/plain": [
              "<Figure size 432x288 with 1 Axes>"
            ],
            "image/png": "[encoded data removed]"
          },
          "metadata": {
            "needs_background": "light"
          }
        },
        {
          "output_type": "display_data",
          "data": {
            "text/plain": [
              "<Figure size 432x288 with 1 Axes>"
            ],
            "image/png": "[encoded data removed]"
          },
          "metadata": {
            "needs_background": "light"
          }
        }
      ]
    },
    {
      "cell_type": "markdown",
      "source": [
        "2. Relationship between Monthly Charges and Total Charges"
      ],
      "metadata": {
        "id": "kCKcUoug-VyW"
      }
    },
    {
      "cell_type": "markdown",
      "source": [
        "Since inside the pandas profiling Total Charges was a categorial variable, we cannot observe the relationship between theses 2 numeric variables, that might be in relation"
      ],
      "metadata": {
        "id": "qu3cZjlU-b_u"
      }
    },
    {
      "cell_type": "code",
      "source": [
        "churn_data = churn_df.toPandas()\n",
        "churn_data['Churn'] = np.where(churn_data.Churn=='Yes',1,0)\n",
        "churn_data_dummies = pd.get_dummies(churn_data)\n",
        "sns.lmplot(data=churn_data_dummies, x='MonthlyCharges', y='TotalCharges',fit_reg = False)"
      ],
      "metadata": {
        "colab": {
          "base_uri": "https://localhost:8080/",
          "height": 386
        },
        "id": "wHaPHC_I58kb",
        "outputId": "34cd4c42-0d0a-41c4-ead5-f1a38a3d8a62"
      },
      "execution_count": 13,
      "outputs": [
        {
          "output_type": "execute_result",
          "data": {
            "text/plain": [
              "<seaborn.axisgrid.FacetGrid at 0x7f6be36ae7d0>"
            ]
          },
          "metadata": {},
          "execution_count": 13
        },
        {
          "output_type": "display_data",
          "data": {
            "text/plain": [
              "<Figure size 360x360 with 1 Axes>"
            ],
            "image/png": "[encoded data removed]"
          },
          "metadata": {
            "needs_background": "light"
          }
        }
      ]
    },
    {
      "cell_type": "markdown",
      "source": [
        "They strongly, with a threshold, increases together"
      ],
      "metadata": {
        "id": "MjSSPYEF-6SI"
      }
    },
    {
      "cell_type": "markdown",
      "source": [
        "We add the relationship with Churn for both variables"
      ],
      "metadata": {
        "id": "l3C5IhzIAEb-"
      }
    },
    {
      "cell_type": "code",
      "source": [
        "Mth = sns.kdeplot(data=churn_data_dummies.MonthlyCharges[(churn_data_dummies[\"Churn\"]==0)],\n",
        "                  color =\"Red\", shade = True)\n",
        "Mth = sns.kdeplot(data=churn_data_dummies.MonthlyCharges[(churn_data_dummies[\"Churn\"]==1)],\n",
        "                  ax = Mth, color= \"Blue\", shade=True)\n",
        "Mth.legend([\"No Churn\",\"Churn\"],loc='upper right')\n",
        "Mth.set_ylabel('Density')\n",
        "Mth.set_xlabel('Monthly Charges')\n",
        "Mth.set_title('Monthly charges by churn')"
      ],
      "metadata": {
        "colab": {
          "base_uri": "https://localhost:8080/",
          "height": 312
        },
        "id": "dJyFvzO1-2T5",
        "outputId": "336fde48-4a7a-4fe4-e7d8-a85b748ca66a"
      },
      "execution_count": 13,
      "outputs": [
        {
          "output_type": "execute_result",
          "data": {
            "text/plain": [
              "Text(0.5, 1.0, 'Monthly charges by churn')"
            ]
          },
          "metadata": {},
          "execution_count": 13
        },
        {
          "output_type": "display_data",
          "data": {
            "text/plain": [
              "<Figure size 432x288 with 1 Axes>"
            ],
            "image/png": "[encoded data removed]"
          },
          "metadata": {
            "needs_background": "light"
          }
        }
      ]
    },
    {
      "cell_type": "markdown",
      "source": [
        "Churn looks high Monthly Charges are high"
      ],
      "metadata": {
        "id": "xS49AnpNBOsS"
      }
    },
    {
      "cell_type": "code",
      "source": [
        "Tot = sns.kdeplot(data=churn_data_dummies.TotalCharges[(churn_data_dummies[\"Churn\"]==0)],\n",
        "                  color =\"Red\", shade = True)\n",
        "Tot = sns.kdeplot(data=churn_data_dummies.TotalCharges[(churn_data_dummies[\"Churn\"]==1)],\n",
        "                  ax = Tot, color= \"Blue\", shade=True)\n",
        "Tot.legend([\"No Churn\",\"Churn\"],loc='upper right')\n",
        "Tot.set_ylabel('Density')\n",
        "Tot.set_xlabel('Total Charges')\n",
        "Tot.set_title('Total charges by churn')"
      ],
      "metadata": {
        "colab": {
          "base_uri": "https://localhost:8080/",
          "height": 312
        },
        "id": "zuFLvuBNBLzj",
        "outputId": "49a67b6c-a462-4447-afc6-54fb9cf69a21"
      },
      "execution_count": 14,
      "outputs": [
        {
          "output_type": "execute_result",
          "data": {
            "text/plain": [
              "Text(0.5, 1.0, 'Total charges by churn')"
            ]
          },
          "metadata": {},
          "execution_count": 14
        },
        {
          "output_type": "display_data",
          "data": {
            "text/plain": [
              "<Figure size 432x288 with 1 Axes>"
            ],
            "image/png": "[encoded data removed]"
          },
          "metadata": {
            "needs_background": "light"
          }
        }
      ]
    },
    {
      "cell_type": "markdown",
      "source": [
        "Higher churn at lower Total Charges\n",
        "However if we combine the insights of 3 parameters i.e. Tenure, Monthly Charges & Total Charges then the picture is bit clear :\n",
        "- Higher Monthly Charge at lower tenure results into lower Total Charge. \n",
        "- Hence, all these 3 factors viz Higher Monthly Charge, Lower tenure and Lower Total Charge are linkd to High Churn."
      ],
      "metadata": {
        "id": "olus8cpxBqGV"
      }
    },
    {
      "cell_type": "markdown",
      "source": [
        "# Data preparation for model training "
      ],
      "metadata": {
        "id": "i2Pmsyb2248t"
      }
    },
    {
      "cell_type": "markdown",
      "source": [
        "### Spark version\n",
        "\n",
        "1. Convert the boolean variables using [StringIndexer](https://spark.apache.org/docs/latest/api/python/reference/api/pyspark.ml.feature.StringIndexer.html)\n",
        "2. Convert the categorial variables (with at least 3 different observations) using [OneHotEncoder](https://spark.apache.org/docs/3.1.1/api/python/reference/api/pyspark.ml.feature.OneHotEncoder.html)\n",
        "3. Using [VectorAssembler](https://spark.apache.org/docs/3.1.3/api/python/reference/api/pyspark.ml.feature.VectorAssembler.html) for merging mutliple columns into a vector column, that means unified all features. \n",
        "4. Using [Pipeline](https://spark.apache.org/docs/latest/api/python/reference/api/pyspark.ml.Pipeline.html)"
      ],
      "metadata": {
        "id": "MCbplYsL4ttE"
      }
    },
    {
      "cell_type": "code",
      "source": [
        "ngender = StringIndexer(inputCol='gender', outputCol='sex')\n",
        "nSeniorCitizen = StringIndexer(inputCol='SeniorCitizen', outputCol='n_SeniorCitizen')\n",
        "nPartner = StringIndexer(inputCol='Partner', outputCol='n_Partner')\n",
        "nDependents = StringIndexer(inputCol='Dependents', outputCol='n_Dependents')\n",
        "nPhoneService = StringIndexer(inputCol='PhoneService', outputCol='n_PhoneService')\n",
        "nPaperlessBilling = StringIndexer(inputCol='PaperlessBilling', outputCol='n_PaperlessBilling')\n",
        "nChurn = StringIndexer(inputCol='Churn',outputCol='lapse')"
      ],
      "metadata": {
        "id": "eLNRU-yJgwcw"
      },
      "execution_count": 15,
      "outputs": []
    },
    {
      "cell_type": "code",
      "source": [
        "nPaymentMethod = StringIndexer(inputCol='PaymentMethod', outputCol='n_PaymentMethod')\n",
        "ohePaymentMethod = OneHotEncoder(inputCol='n_PaymentMethod',outputCol='ohe_PaymentMethod')\n",
        "nContract = StringIndexer(inputCol='Contract', outputCol='n_Contract')\n",
        "oheContract = OneHotEncoder(inputCol='n_Contract',outputCol='ohe_Contract')\n",
        "nStreamingMovies = StringIndexer(inputCol='StreamingMovies', outputCol='n_StreamingMovies')\n",
        "oheStreamingMovies = OneHotEncoder(inputCol='n_StreamingMovies',outputCol='ohe_StreamingMovies')\n",
        "nStreamingTV = StringIndexer(inputCol='StreamingTV', outputCol='n_StreamingTV')\n",
        "oheStreamingTV = OneHotEncoder(inputCol='n_StreamingTV',outputCol='ohe_StreamingTV')\n",
        "nTechSupport = StringIndexer(inputCol='TechSupport', outputCol='n_TechSupport')\n",
        "oheTechSupport = OneHotEncoder(inputCol='n_TechSupport',outputCol='ohe_TechSupport')\n",
        "nDeviceProtection = StringIndexer(inputCol='DeviceProtection', outputCol='n_DeviceProtection')\n",
        "oheDeviceProtection = OneHotEncoder(inputCol='n_DeviceProtection',outputCol='ohe_DeviceProtection')\n",
        "nOnlineBackup = StringIndexer(inputCol='OnlineBackup', outputCol='n_OnlineBackup')\n",
        "oheOnlineBackup = OneHotEncoder(inputCol='n_OnlineBackup',outputCol='ohe_OnlineBackup')\n",
        "nOnlineSecurity = StringIndexer(inputCol='OnlineSecurity', outputCol='n_OnlineSecurity')\n",
        "oheOnlineSecurity = OneHotEncoder(inputCol='n_OnlineSecurity',outputCol='ohe_OnlineSecurity')\n",
        "nInternetService = StringIndexer(inputCol='InternetService', outputCol='n_InternetService')\n",
        "oheInternetService = OneHotEncoder(inputCol='n_InternetService',outputCol='ohe_InternetService')\n",
        "nMultipleLines = StringIndexer(inputCol='MultipleLines', outputCol='n_MultipleLines')\n",
        "oheMultipleLines = OneHotEncoder(inputCol='n_MultipleLines',outputCol='ohe_MultipleLines')\n",
        "ntenure_group = StringIndexer(inputCol='tenure_group', outputCol='n_tenure_group')\n",
        "ohetenure_group = OneHotEncoder(inputCol='n_tenure_group',outputCol='ohe_tenure_group')"
      ],
      "metadata": {
        "id": "wBZLEYWDiHeW"
      },
      "execution_count": 16,
      "outputs": []
    },
    {
      "cell_type": "code",
      "source": [
        "features = VectorAssembler(inputCols=['sex','n_SeniorCitizen','n_Partner','n_Dependents','n_PhoneService','n_PaperlessBilling',\n",
        "                                      'n_PaymentMethod','ohe_PaymentMethod','n_Contract','ohe_Contract','n_StreamingMovies',\n",
        "                                      'ohe_StreamingMovies','n_StreamingTV','ohe_StreamingTV','n_TechSupport','ohe_TechSupport',\n",
        "                                      'n_DeviceProtection','ohe_DeviceProtection','n_OnlineBackup','ohe_OnlineBackup','n_OnlineSecurity',\n",
        "                                      'ohe_OnlineSecurity','n_InternetService','ohe_InternetService',\n",
        "                                      'n_MultipleLines','ohe_MultipleLines','n_tenure_group','ohe_tenure_group','TotalCharges','MonthlyCharges'],\n",
        "                           outputCol = 'features')\n",
        "pipeline = Pipeline(stages=[ngender,nSeniorCitizen,nPartner,nDependents,nPhoneService,nPaperlessBilling,\n",
        "                            nPaymentMethod,ohePaymentMethod,nContract,oheContract,nStreamingMovies,oheStreamingMovies,\n",
        "                            nStreamingTV,oheStreamingTV,nTechSupport,oheTechSupport,nDeviceProtection,oheDeviceProtection,\n",
        "                            nOnlineBackup,oheOnlineBackup,nOnlineSecurity,oheOnlineSecurity,nInternetService,oheInternetService,\n",
        "                            nMultipleLines,oheMultipleLines,ntenure_group,ohetenure_group,features,nChurn])\n",
        "model_pipeline = pipeline.fit(churn_df).transform(churn_df)\n",
        "model_pipeline.show(3, truncate = False)"
      ],
      "metadata": {
        "id": "QspxdIzraGd0",
        "colab": {
          "base_uri": "https://localhost:8080/"
        },
        "outputId": "b4df179d-c796-4d4e-aac3-f2335e5d7a8d"
      },
      "execution_count": 17,
      "outputs": [
        {
          "output_type": "stream",
          "name": "stdout",
          "text": [
            "+------+-------------+-------+----------+------------+----------------+---------------+--------------+------------+----------------+-----------+-----------+---------------+--------------+----------------+----------------+--------------+------------+-----+------------+---+---------------+---------+------------+--------------+------------------+---------------+-----------------+----------+-------------+-----------------+-------------------+-------------+---------------+-------------+---------------+------------------+--------------------+--------------+----------------+----------------+------------------+-----------------+-------------------+---------------+-----------------+--------------+----------------+-----------------------------------------------------------------------------------------------------------------------------------------------+-----+\n",
            "|gender|SeniorCitizen|Partner|Dependents|PhoneService|MultipleLines   |InternetService|OnlineSecurity|OnlineBackup|DeviceProtection|TechSupport|StreamingTV|StreamingMovies|Contract      |PaperlessBilling|PaymentMethod   |MonthlyCharges|TotalCharges|Churn|tenure_group|sex|n_SeniorCitizen|n_Partner|n_Dependents|n_PhoneService|n_PaperlessBilling|n_PaymentMethod|ohe_PaymentMethod|n_Contract|ohe_Contract |n_StreamingMovies|ohe_StreamingMovies|n_StreamingTV|ohe_StreamingTV|n_TechSupport|ohe_TechSupport|n_DeviceProtection|ohe_DeviceProtection|n_OnlineBackup|ohe_OnlineBackup|n_OnlineSecurity|ohe_OnlineSecurity|n_InternetService|ohe_InternetService|n_MultipleLines|ohe_MultipleLines|n_tenure_group|ohe_tenure_group|features                                                                                                                                       |lapse|\n",
            "+------+-------------+-------+----------+------------+----------------+---------------+--------------+------------+----------------+-----------+-----------+---------------+--------------+----------------+----------------+--------------+------------+-----+------------+---+---------------+---------+------------+--------------+------------------+---------------+-----------------+----------+-------------+-----------------+-------------------+-------------+---------------+-------------+---------------+------------------+--------------------+--------------+----------------+----------------+------------------+-----------------+-------------------+---------------+-----------------+--------------+----------------+-----------------------------------------------------------------------------------------------------------------------------------------------+-----+\n",
            "|Female|0            |Yes    |No        |No          |No phone service|DSL            |No            |Yes         |No              |No         |No         |No             |Month-to-month|Yes             |Electronic check|29.85         |29          |No   |1-12        |1.0|0.0            |1.0      |0.0         |1.0           |0.0               |0.0            |(3,[0],[1.0])    |0.0       |(2,[0],[1.0])|0.0              |(2,[0],[1.0])      |0.0          |(2,[0],[1.0])  |0.0          |(2,[0],[1.0])  |0.0               |(2,[0],[1.0])       |1.0           |(2,[1],[1.0])   |0.0             |(2,[0],[1.0])     |1.0              |(2,[1],[1.0])      |2.0            |(2,[],[])        |0.0           |(5,[0],[1.0])   |(45,[0,2,4,7,11,14,17,20,23,25,27,29,31,33,34,38,43,44],[1.0,1.0,1.0,1.0,1.0,1.0,1.0,1.0,1.0,1.0,1.0,1.0,1.0,1.0,2.0,1.0,29.0,29.85])          |0.0  |\n",
            "|Male  |0            |No     |No        |Yes         |No              |DSL            |Yes           |No          |Yes             |No         |No         |No             |One year      |No              |Mailed check    |56.95         |1889        |No   |25-36       |0.0|0.0            |0.0      |0.0         |0.0           |1.0               |1.0            |(3,[1],[1.0])    |2.0       |(2,[],[])    |0.0              |(2,[0],[1.0])      |0.0          |(2,[0],[1.0])  |0.0          |(2,[0],[1.0])  |1.0               |(2,[1],[1.0])       |0.0           |(2,[0],[1.0])   |1.0             |(2,[1],[1.0])     |1.0              |(2,[1],[1.0])      |0.0            |(2,[0],[1.0])    |3.0           |(5,[3],[1.0])   |(45,[5,6,8,10,14,17,20,22,24,26,28,30,31,33,35,37,41,43,44],[1.0,1.0,1.0,2.0,1.0,1.0,1.0,1.0,1.0,1.0,1.0,1.0,1.0,1.0,1.0,3.0,1.0,1889.0,56.95])|0.0  |\n",
            "|Male  |0            |No     |No        |Yes         |No              |DSL            |Yes           |Yes         |No              |No         |No         |No             |Month-to-month|Yes             |Mailed check    |53.85         |108         |Yes  |1-12        |0.0|0.0            |0.0      |0.0         |0.0           |0.0               |1.0            |(3,[1],[1.0])    |0.0       |(2,[0],[1.0])|0.0              |(2,[0],[1.0])      |0.0          |(2,[0],[1.0])  |0.0          |(2,[0],[1.0])  |0.0               |(2,[0],[1.0])       |1.0           |(2,[1],[1.0])   |1.0             |(2,[1],[1.0])     |1.0              |(2,[1],[1.0])      |0.0            |(2,[0],[1.0])    |0.0           |(5,[0],[1.0])   |(45,[6,8,11,14,17,20,23,25,27,28,30,31,33,35,38,43,44],[1.0,1.0,1.0,1.0,1.0,1.0,1.0,1.0,1.0,1.0,1.0,1.0,1.0,1.0,1.0,108.0,53.85])              |1.0  |\n",
            "+------+-------------+-------+----------+------------+----------------+---------------+--------------+------------+----------------+-----------+-----------+---------------+--------------+----------------+----------------+--------------+------------+-----+------------+---+---------------+---------+------------+--------------+------------------+---------------+-----------------+----------+-------------+-----------------+-------------------+-------------+---------------+-------------+---------------+------------------+--------------------+--------------+----------------+----------------+------------------+-----------------+-------------------+---------------+-----------------+--------------+----------------+-----------------------------------------------------------------------------------------------------------------------------------------------+-----+\n",
            "only showing top 3 rows\n",
            "\n"
          ]
        }
      ]
    },
    {
      "cell_type": "code",
      "source": [
        "pipeline.fit(churn_df).transform(churn_df).tail(1)"
      ],
      "metadata": {
        "colab": {
          "base_uri": "https://localhost:8080/"
        },
        "id": "jp4Lin_X2Q4C",
        "outputId": "4f2a6ea5-c2d4-41e9-b31f-291c205b1699"
      },
      "execution_count": 18,
      "outputs": [
        {
          "output_type": "execute_result",
          "data": {
            "text/plain": [
              "[Row(gender='Male', SeniorCitizen=0, Partner='No', Dependents='No', PhoneService='Yes', MultipleLines='No', InternetService='Fiber optic', OnlineSecurity='Yes', OnlineBackup='No', DeviceProtection='Yes', TechSupport='Yes', StreamingTV='Yes', StreamingMovies='Yes', Contract='Two year', PaperlessBilling='Yes', PaymentMethod='Bank transfer (automatic)', MonthlyCharges=105.65, TotalCharges=6844, Churn='No', tenure_group='61-72', sex=0.0, n_SeniorCitizen=0.0, n_Partner=0.0, n_Dependents=0.0, n_PhoneService=0.0, n_PaperlessBilling=0.0, n_PaymentMethod=2.0, ohe_PaymentMethod=SparseVector(3, {2: 1.0}), n_Contract=1.0, ohe_Contract=SparseVector(2, {1: 1.0}), n_StreamingMovies=1.0, ohe_StreamingMovies=SparseVector(2, {1: 1.0}), n_StreamingTV=1.0, ohe_StreamingTV=SparseVector(2, {1: 1.0}), n_TechSupport=1.0, ohe_TechSupport=SparseVector(2, {1: 1.0}), n_DeviceProtection=1.0, ohe_DeviceProtection=SparseVector(2, {1: 1.0}), n_OnlineBackup=0.0, ohe_OnlineBackup=SparseVector(2, {0: 1.0}), n_OnlineSecurity=1.0, ohe_OnlineSecurity=SparseVector(2, {1: 1.0}), n_InternetService=0.0, ohe_InternetService=SparseVector(2, {0: 1.0}), n_MultipleLines=0.0, ohe_MultipleLines=SparseVector(2, {0: 1.0}), n_tenure_group=1.0, ohe_tenure_group=SparseVector(5, {1: 1.0}), features=SparseVector(45, {6: 2.0, 9: 1.0, 10: 1.0, 12: 1.0, 13: 1.0, 15: 1.0, 16: 1.0, 18: 1.0, 19: 1.0, 21: 1.0, 22: 1.0, 24: 1.0, 26: 1.0, 28: 1.0, 30: 1.0, 32: 1.0, 35: 1.0, 37: 1.0, 39: 1.0, 43: 6844.0, 44: 105.65}), lapse=0.0)]"
            ]
          },
          "metadata": {},
          "execution_count": 18
        }
      ]
    },
    {
      "cell_type": "markdown",
      "source": [
        "### Pandas version"
      ],
      "metadata": {
        "id": "EBaG721_2iSa"
      }
    },
    {
      "cell_type": "code",
      "source": [
        "churn_data['Churn'] = np.where(churn_data.Churn=='Yes',1,0)\n",
        "churn_data['Churn']\n",
        "churn_data_dummies.head()"
      ],
      "metadata": {
        "id": "YZqeleSWyyWF",
        "colab": {
          "base_uri": "https://localhost:8080/",
          "height": 334
        },
        "outputId": "df5e369b-e69c-4022-b4ca-a2fb3c8eed66"
      },
      "execution_count": 19,
      "outputs": [
        {
          "output_type": "execute_result",
          "data": {
            "text/plain": [
              "   SeniorCitizen  tenure  MonthlyCharges  TotalCharges  Churn  \\\n",
              "0              0       1           29.85            29      0   \n",
              "1              0      34           56.95          1889      0   \n",
              "2              0       2           53.85           108      1   \n",
              "3              0      45           42.30          1840      0   \n",
              "4              0       2           70.70           151      1   \n",
              "\n",
              "   customerID_0002-ORFBO  customerID_0003-MKNFE  customerID_0004-TLHLJ  \\\n",
              "0                      0                      0                      0   \n",
              "1                      0                      0                      0   \n",
              "2                      0                      0                      0   \n",
              "3                      0                      0                      0   \n",
              "4                      0                      0                      0   \n",
              "\n",
              "   customerID_0011-IGKFF  customerID_0013-EXCHZ  ...  StreamingMovies_Yes  \\\n",
              "0                      0                      0  ...                    0   \n",
              "1                      0                      0  ...                    0   \n",
              "2                      0                      0  ...                    0   \n",
              "3                      0                      0  ...                    0   \n",
              "4                      0                      0  ...                    0   \n",
              "\n",
              "   Contract_Month-to-month  Contract_One year  Contract_Two year  \\\n",
              "0                        1                  0                  0   \n",
              "1                        0                  1                  0   \n",
              "2                        1                  0                  0   \n",
              "3                        0                  1                  0   \n",
              "4                        1                  0                  0   \n",
              "\n",
              "   PaperlessBilling_No  PaperlessBilling_Yes  \\\n",
              "0                    0                     1   \n",
              "1                    1                     0   \n",
              "2                    0                     1   \n",
              "3                    1                     0   \n",
              "4                    0                     1   \n",
              "\n",
              "   PaymentMethod_Bank transfer (automatic)  \\\n",
              "0                                        0   \n",
              "1                                        0   \n",
              "2                                        0   \n",
              "3                                        1   \n",
              "4                                        0   \n",
              "\n",
              "   PaymentMethod_Credit card (automatic)  PaymentMethod_Electronic check  \\\n",
              "0                                      0                               1   \n",
              "1                                      0                               0   \n",
              "2                                      0                               0   \n",
              "3                                      0                               0   \n",
              "4                                      0                               1   \n",
              "\n",
              "   PaymentMethod_Mailed check  \n",
              "0                           0  \n",
              "1                           1  \n",
              "2                           1  \n",
              "3                           0  \n",
              "4                           0  \n",
              "\n",
              "[5 rows x 7078 columns]"
            ],
            "text/html": [
              "\n",
              "  <div id=\"df-bcc2c542-6cde-4a15-8c59-59d0c611ebbb\">\n",
              "    <div class=\"colab-df-container\">\n",
              "      <div>\n",
              "<style scoped>\n",
              "    .dataframe tbody tr th:only-of-type {\n",
              "        vertical-align: middle;\n",
              "    }\n",
              "\n",
              "    .dataframe tbody tr th {\n",
              "        vertical-align: top;\n",
              "    }\n",
              "\n",
              "    .dataframe thead th {\n",
              "        text-align: right;\n",
              "    }\n",
              "</style>\n",
              "<table border=\"1\" class=\"dataframe\">\n",
              "  <thead>\n",
              "    <tr style=\"text-align: right;\">\n",
              "      <th></th>\n",
              "      <th>SeniorCitizen</th>\n",
              "      <th>tenure</th>\n",
              "      <th>MonthlyCharges</th>\n",
              "      <th>TotalCharges</th>\n",
              "      <th>Churn</th>\n",
              "      <th>customerID_0002-ORFBO</th>\n",
              "      <th>customerID_0003-MKNFE</th>\n",
              "      <th>customerID_0004-TLHLJ</th>\n",
              "      <th>customerID_0011-IGKFF</th>\n",
              "      <th>customerID_0013-EXCHZ</th>\n",
              "      <th>...</th>\n",
              "      <th>StreamingMovies_Yes</th>\n",
              "      <th>Contract_Month-to-month</th>\n",
              "      <th>Contract_One year</th>\n",
              "      <th>Contract_Two year</th>\n",
              "      <th>PaperlessBilling_No</th>\n",
              "      <th>PaperlessBilling_Yes</th>\n",
              "      <th>PaymentMethod_Bank transfer (automatic)</th>\n",
              "      <th>PaymentMethod_Credit card (automatic)</th>\n",
              "      <th>PaymentMethod_Electronic check</th>\n",
              "      <th>PaymentMethod_Mailed check</th>\n",
              "    </tr>\n",
              "  </thead>\n",
              "  <tbody>\n",
              "    <tr>\n",
              "      <th>0</th>\n",
              "      <td>0</td>\n",
              "      <td>1</td>\n",
              "      <td>29.85</td>\n",
              "      <td>29</td>\n",
              "      <td>0</td>\n",
              "      <td>0</td>\n",
              "      <td>0</td>\n",
              "      <td>0</td>\n",
              "      <td>0</td>\n",
              "      <td>0</td>\n",
              "      <td>...</td>\n",
              "      <td>0</td>\n",
              "      <td>1</td>\n",
              "      <td>0</td>\n",
              "      <td>0</td>\n",
              "      <td>0</td>\n",
              "      <td>1</td>\n",
              "      <td>0</td>\n",
              "      <td>0</td>\n",
              "      <td>1</td>\n",
              "      <td>0</td>\n",
              "    </tr>\n",
              "    <tr>\n",
              "      <th>1</th>\n",
              "      <td>0</td>\n",
              "      <td>34</td>\n",
              "      <td>56.95</td>\n",
              "      <td>1889</td>\n",
              "      <td>0</td>\n",
              "      <td>0</td>\n",
              "      <td>0</td>\n",
              "      <td>0</td>\n",
              "      <td>0</td>\n",
              "      <td>0</td>\n",
              "      <td>...</td>\n",
              "      <td>0</td>\n",
              "      <td>0</td>\n",
              "      <td>1</td>\n",
              "      <td>0</td>\n",
              "      <td>1</td>\n",
              "      <td>0</td>\n",
              "      <td>0</td>\n",
              "      <td>0</td>\n",
              "      <td>0</td>\n",
              "      <td>1</td>\n",
              "    </tr>\n",
              "    <tr>\n",
              "      <th>2</th>\n",
              "      <td>0</td>\n",
              "      <td>2</td>\n",
              "      <td>53.85</td>\n",
              "      <td>108</td>\n",
              "      <td>1</td>\n",
              "      <td>0</td>\n",
              "      <td>0</td>\n",
              "      <td>0</td>\n",
              "      <td>0</td>\n",
              "      <td>0</td>\n",
              "      <td>...</td>\n",
              "      <td>0</td>\n",
              "      <td>1</td>\n",
              "      <td>0</td>\n",
              "      <td>0</td>\n",
              "      <td>0</td>\n",
              "      <td>1</td>\n",
              "      <td>0</td>\n",
              "      <td>0</td>\n",
              "      <td>0</td>\n",
              "      <td>1</td>\n",
              "    </tr>\n",
              "    <tr>\n",
              "      <th>3</th>\n",
              "      <td>0</td>\n",
              "      <td>45</td>\n",
              "      <td>42.30</td>\n",
              "      <td>1840</td>\n",
              "      <td>0</td>\n",
              "      <td>0</td>\n",
              "      <td>0</td>\n",
              "      <td>0</td>\n",
              "      <td>0</td>\n",
              "      <td>0</td>\n",
              "      <td>...</td>\n",
              "      <td>0</td>\n",
              "      <td>0</td>\n",
              "      <td>1</td>\n",
              "      <td>0</td>\n",
              "      <td>1</td>\n",
              "      <td>0</td>\n",
              "      <td>1</td>\n",
              "      <td>0</td>\n",
              "      <td>0</td>\n",
              "      <td>0</td>\n",
              "    </tr>\n",
              "    <tr>\n",
              "      <th>4</th>\n",
              "      <td>0</td>\n",
              "      <td>2</td>\n",
              "      <td>70.70</td>\n",
              "      <td>151</td>\n",
              "      <td>1</td>\n",
              "      <td>0</td>\n",
              "      <td>0</td>\n",
              "      <td>0</td>\n",
              "      <td>0</td>\n",
              "      <td>0</td>\n",
              "      <td>...</td>\n",
              "      <td>0</td>\n",
              "      <td>1</td>\n",
              "      <td>0</td>\n",
              "      <td>0</td>\n",
              "      <td>0</td>\n",
              "      <td>1</td>\n",
              "      <td>0</td>\n",
              "      <td>0</td>\n",
              "      <td>1</td>\n",
              "      <td>0</td>\n",
              "    </tr>\n",
              "  </tbody>\n",
              "</table>\n",
              "<p>5 rows × 7078 columns</p>\n",
              "</div>\n",
              "      <button class=\"colab-df-convert\" onclick=\"convertToInteractive('df-bcc2c542-6cde-4a15-8c59-59d0c611ebbb')\"\n",
              "              title=\"Convert this dataframe to an interactive table.\"\n",
              "              style=\"display:none;\">\n",
              "        \n",
              "  <svg xmlns=\"http://www.w3.org/2000/svg\" height=\"24px\"viewBox=\"0 0 24 24\"\n",
              "       width=\"24px\">\n",
              "    <path d=\"M0 0h24v24H0V0z\" fill=\"none\"/>\n",
              "    <path d=\"M18.56 5.44l.94 2.06.94-2.06 2.06-.94-2.06-.94-.94-2.06-.94 2.06-2.06.94zm-11 1L8.5 8.5l.94-2.06 2.06-.94-2.06-.94L8.5 2.5l-.94 2.06-2.06.94zm10 10l.94 2.06.94-2.06 2.06-.94-2.06-.94-.94-2.06-.94 2.06-2.06.94z\"/><path d=\"M17.41 7.96l-1.37-1.37c-.4-.4-.92-.59-1.43-.59-.52 0-1.04.2-1.43.59L10.3 9.45l-7.72 7.72c-.78.78-.78 2.05 0 2.83L4 21.41c.39.39.9.59 1.41.59.51 0 1.02-.2 1.41-.59l7.78-7.78 2.81-2.81c.8-.78.8-2.07 0-2.86zM5.41 20L4 18.59l7.72-7.72 1.47 1.35L5.41 20z\"/>\n",
              "  </svg>\n",
              "      </button>\n",
              "      \n",
              "  <style>\n",
              "    .colab-df-container {\n",
              "      display:flex;\n",
              "      flex-wrap:wrap;\n",
              "      gap: 12px;\n",
              "    }\n",
              "\n",
              "    .colab-df-convert {\n",
              "      background-color: #E8F0FE;\n",
              "      border: none;\n",
              "      border-radius: 50%;\n",
              "      cursor: pointer;\n",
              "      display: none;\n",
              "      fill: #1967D2;\n",
              "      height: 32px;\n",
              "      padding: 0 0 0 0;\n",
              "      width: 32px;\n",
              "    }\n",
              "\n",
              "    .colab-df-convert:hover {\n",
              "      background-color: #E2EBFA;\n",
              "      box-shadow: 0px 1px 2px rgba(60, 64, 67, 0.3), 0px 1px 3px 1px rgba(60, 64, 67, 0.15);\n",
              "      fill: #174EA6;\n",
              "    }\n",
              "\n",
              "    [theme=dark] .colab-df-convert {\n",
              "      background-color: #3B4455;\n",
              "      fill: #D2E3FC;\n",
              "    }\n",
              "\n",
              "    [theme=dark] .colab-df-convert:hover {\n",
              "      background-color: #434B5C;\n",
              "      box-shadow: 0px 1px 3px 1px rgba(0, 0, 0, 0.15);\n",
              "      filter: drop-shadow(0px 1px 2px rgba(0, 0, 0, 0.3));\n",
              "      fill: #FFFFFF;\n",
              "    }\n",
              "  </style>\n",
              "\n",
              "      <script>\n",
              "        const buttonEl =\n",
              "          document.querySelector('#df-bcc2c542-6cde-4a15-8c59-59d0c611ebbb button.colab-df-convert');\n",
              "        buttonEl.style.display =\n",
              "          google.colab.kernel.accessAllowed ? 'block' : 'none';\n",
              "\n",
              "        async function convertToInteractive(key) {\n",
              "          const element = document.querySelector('#df-bcc2c542-6cde-4a15-8c59-59d0c611ebbb');\n",
              "          const dataTable =\n",
              "            await google.colab.kernel.invokeFunction('convertToInteractive',\n",
              "                                                     [key], {});\n",
              "          if (!dataTable) return;\n",
              "\n",
              "          const docLinkHtml = 'Like what you see? Visit the ' +\n",
              "            '<a target=\"_blank\" href=https://colab.research.google.com/notebooks/data_table.ipynb>data table notebook</a>'\n",
              "            + ' to learn more about interactive tables.';\n",
              "          element.innerHTML = '';\n",
              "          dataTable['output_type'] = 'display_data';\n",
              "          await google.colab.output.renderOutput(dataTable, element);\n",
              "          const docLink = document.createElement('div');\n",
              "          docLink.innerHTML = docLinkHtml;\n",
              "          element.appendChild(docLink);\n",
              "        }\n",
              "      </script>\n",
              "    </div>\n",
              "  </div>\n",
              "  "
            ]
          },
          "metadata": {},
          "execution_count": 19
        }
      ]
    },
    {
      "cell_type": "markdown",
      "source": [
        "# Correlation of all predictors with 'Churn'"
      ],
      "metadata": {
        "id": "okgizUNDCC15"
      }
    },
    {
      "cell_type": "code",
      "source": [
        "plt.figure(figsize=(20,8))\n",
        "churn_data_dummies.corr()['Churn'].sort_values(ascending=False).plot(kind='bar')"
      ],
      "metadata": {
        "id": "tGIPkjBvBlhT"
      },
      "execution_count": null,
      "outputs": []
    },
    {
      "cell_type": "markdown",
      "source": [
        "**Insights from correlation graphs:**\n",
        "\n",
        "High churn seen in case of **Month-to-month contracts,** **No online security**, **No tech support**, **First year of subscription** and **Fibre Optics internet**\n",
        "\n",
        "Low churn is seens in case of **Long Term contracts**, **subscriptions without internet service** and **the customers engaged for 5+ years**\n",
        "\n",
        "Factors like **Gender**, **availability of PhoneService** and **multiple lines** have almost no impact on Churn "
      ],
      "metadata": {
        "id": "YryQPBkOCfww"
      }
    },
    {
      "cell_type": "markdown",
      "source": [
        "To look at it on another way"
      ],
      "metadata": {
        "id": "Co_BrbAODyTO"
      }
    },
    {
      "cell_type": "code",
      "source": [
        "plt.figure(figsize=(12,12))\n",
        "sns.heatmap(churn_data_dummies.corr(), cmap='Paired')"
      ],
      "metadata": {
        "id": "TjfL846JCYPw"
      },
      "execution_count": null,
      "outputs": []
    },
    {
      "cell_type": "markdown",
      "source": [
        "### How to look more precisily inside the two features of churn"
      ],
      "metadata": {
        "id": "xmHk3uk3EG6v"
      }
    },
    {
      "cell_type": "code",
      "source": [
        "without_churn_df = churn_data.loc[churn_data[\"Churn\"]==0]\n",
        "with_churn_df = churn_data.loc[churn_data[\"Churn\"]==1]"
      ],
      "metadata": {
        "id": "RBk2D3mfEDqU"
      },
      "execution_count": null,
      "outputs": []
    },
    {
      "cell_type": "code",
      "source": [
        "def uniplot(df,col,title,hue=None):\n",
        "  sns.set_style('whitegrid')\n",
        "  sns.set_context('talk')\n",
        "  plt.rcParams[\"axes.labelsize\"]=16\n",
        "  plt.rcParams[\"axes.titlesize\"]=18\n",
        "  plt.rcParams[\"axes.titlepad\"]=26\n",
        "\n",
        "  temp = pd.Series(data=hue)\n",
        "  fig, ax = plt.subplots()\n",
        "  width = len(df[col].unique())+7+4*len(temp.unique())\n",
        "  fig.set_size_inches(width,8)\n",
        "  plt.xticks(rotation=45)\n",
        "  plt.yscale('log')\n",
        "  plt.title(title)\n",
        "  ax = sns.countplot(data = df, x = col, order=df[col].value_counts().index, hue=hue,palette='bright')\n",
        "\n",
        "  plt.show()"
      ],
      "metadata": {
        "id": "vm6QDUuWEndU"
      },
      "execution_count": null,
      "outputs": []
    },
    {
      "cell_type": "code",
      "source": [
        "uniplot(with_churn_df,col='Partner',title='Distribution of Partner for Churned Customers',hue='gender')\n",
        "uniplot(without_churn_df,col='Partner',title='Distribution of Partner for Non Churned Customers',hue='gender')"
      ],
      "metadata": {
        "id": "YYpkGIRPGmbM"
      },
      "execution_count": null,
      "outputs": []
    },
    {
      "cell_type": "code",
      "source": [
        "uniplot(with_churn_df,col='PaymentMethod',title='Distribution of PaymentMethod for Churned Customers',hue='gender')\n",
        "uniplot(without_churn_df,col='PaymentMethod',title='Distribution of PaymentMethod for Non Churned Customers',hue='gender')"
      ],
      "metadata": {
        "id": "SePbvy0BG6aD"
      },
      "execution_count": null,
      "outputs": []
    },
    {
      "cell_type": "code",
      "source": [
        "uniplot(with_churn_df,col='Contract',title='Distribution of Contract for Churned Customers',hue='gender')\n",
        "uniplot(without_churn_df,col='Contract',title='Distribution of Contract for Non Churned Customers',hue='gender')"
      ],
      "metadata": {
        "id": "J3zW3ZyaHaFf"
      },
      "execution_count": null,
      "outputs": []
    },
    {
      "cell_type": "code",
      "source": [
        "uniplot(with_churn_df,col='TechSupport',title='Distribution of TechSupport for Churned Customers',hue='gender')\n",
        "uniplot(without_churn_df,col='TechSupport',title='Distribution of TechSupport for Non Churned Customers',hue='gender')"
      ],
      "metadata": {
        "id": "YZr_WSDrHtW4"
      },
      "execution_count": null,
      "outputs": []
    },
    {
      "cell_type": "code",
      "source": [
        "uniplot(with_churn_df,col='SeniorCitizen',title='Distribution of SeniorCitizen for Churned Customers',hue='gender')\n",
        "uniplot(without_churn_df,col='SeniorCitizen',title='Distribution of SeniorCitizen for Non Churned Customers',hue='gender')"
      ],
      "metadata": {
        "id": "K2ckaFqQH2Fi"
      },
      "execution_count": null,
      "outputs": []
    },
    {
      "cell_type": "markdown",
      "source": [
        "# Conclusion "
      ],
      "metadata": {
        "id": "r6dGeV-sIC_p"
      }
    },
    {
      "cell_type": "markdown",
      "source": [
        "1. Electronic check medium are the highest churners\n",
        "2. Contract Type - Montly customers are more likely to churn of no contract terms, as they are free to go customers.\n",
        "3. No Online security, No tech Support Category are high churners\n",
        "4. Non senior Citizens are high churners\n"
      ],
      "metadata": {
        "id": "ukJNb4xVIGjH"
      }
    },
    {
      "cell_type": "code",
      "source": [
        "model_pipeline.write.mode(\"overwrite\").parquet(\"/content/drive/MyDrive/churn/spark_pipeline\")\n",
        "churn_data_dummies.to_csv('/content/drive/MyDrive/churn/telco_churn.csv')"
      ],
      "metadata": {
        "id": "QJgSs0A2IB53"
      },
      "execution_count": 15,
      "outputs": []
    }
  ]
}