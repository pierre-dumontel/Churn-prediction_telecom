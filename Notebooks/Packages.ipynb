{
  "nbformat": 4,
  "nbformat_minor": 0,
  "metadata": {
    "colab": {
      "provenance": [],
      "authorship_tag": "ABX9TyOWL5l2ZG8sqH+YnvQRXm03"
    },
    "kernelspec": {
      "name": "python3",
      "display_name": "Python 3"
    },
    "language_info": {
      "name": "python"
    }
  },
  "cells": [
    {
      "cell_type": "markdown",
      "source": [
        "# Packages"
      ],
      "metadata": {
        "id": "ODN5tpQmONvh"
      }
    },
    {
      "cell_type": "code",
      "execution_count": null,
      "metadata": {
        "id": "_dG4BIuJOEwl"
      },
      "outputs": [],
      "source": [
        "!pip install pandas-profiling -U"
      ]
    },
    {
      "cell_type": "code",
      "source": [
        "!pip install pyspark"
      ],
      "metadata": {
        "id": "JCOa2NU0OIUG"
      },
      "execution_count": null,
      "outputs": []
    },
    {
      "cell_type": "code",
      "source": [
        "import pyspark\n",
        "sc = pyspark.SparkContext()\n",
        "sql_sc = pyspark.SQLContext(sc)\n",
        "\n",
        "spark = (pyspark.sql.SparkSession\n",
        "         .builder\n",
        "         .appName('Churn')\n",
        "         .getOrCreate()\n",
        ")"
      ],
      "metadata": {
        "id": "jP0Sirm9OtFA"
      },
      "execution_count": null,
      "outputs": []
    },
    {
      "cell_type": "code",
      "source": [
        "from pyspark.sql.types import StructType, StructField, IntegerType, StringType, DoubleType, TimestampType, DateType, FloatType\n",
        "from pyspark.sql.functions import current_timestamp, lit, col, to_timestamp, concat, count, countDistinct, desc, rank, asc, when\n",
        "from pyspark.sql.functions import sum, mean, round, stddev, max, min\n",
        "from pyspark.sql.window import Window"
      ],
      "metadata": {
        "id": "GfR-1u3MOvBI"
      },
      "execution_count": null,
      "outputs": []
    },
    {
      "cell_type": "code",
      "source": [
        "from pyspark.ml.feature import StringIndexer, OneHotEncoder, VectorAssembler  \n",
        "from pyspark.ml.feature import Imputer \n",
        "from pyspark.ml.pipeline import Pipeline"
      ],
      "metadata": {
        "id": "bbZep2uXmFPi"
      },
      "execution_count": null,
      "outputs": []
    },
    {
      "cell_type": "code",
      "source": [
        "import numpy as np\n",
        "import pandas as pd\n",
        "import pandas_profiling as pdp \n",
        "import seaborn as sns\n",
        "import matplotlib.ticker as mtick\n",
        "import matplotlib.pyplot as plt \n",
        "from google.colab import drive\n",
        "drive.mount('/content/drive')"
      ],
      "metadata": {
        "id": "81ozC9nDOxH3"
      },
      "execution_count": null,
      "outputs": []
    }
  ]
}